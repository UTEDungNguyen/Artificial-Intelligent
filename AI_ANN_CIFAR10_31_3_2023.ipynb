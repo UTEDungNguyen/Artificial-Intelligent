{
  "nbformat": 4,
  "nbformat_minor": 0,
  "metadata": {
    "colab": {
      "provenance": [],
      "authorship_tag": "ABX9TyNBxATD2w7OhQtXOhPBYeyZ",
      "include_colab_link": true
    },
    "kernelspec": {
      "name": "python3",
      "display_name": "Python 3"
    },
    "language_info": {
      "name": "python"
    }
  },
  "cells": [
    {
      "cell_type": "markdown",
      "metadata": {
        "id": "view-in-github",
        "colab_type": "text"
      },
      "source": [
        "<a href=\"https://colab.research.google.com/github/UTEDungNguyen/Artificial-Intelligent/blob/main/AI_ANN_CIFAR10_31_3_2023.ipynb\" target=\"_parent\"><img src=\"https://colab.research.google.com/assets/colab-badge.svg\" alt=\"Open In Colab\"/></a>"
      ]
    },
    {
      "cell_type": "code",
      "source": [
        "from google.colab import drive \n",
        "drive.mount(\"/content/gdrive\", force_remount=True)"
      ],
      "metadata": {
        "colab": {
          "base_uri": "https://localhost:8080/"
        },
        "id": "Dzu82Ks7HpBD",
        "outputId": "4520cd9b-b053-4265-c775-02663ba37656"
      },
      "execution_count": 16,
      "outputs": [
        {
          "output_type": "stream",
          "name": "stdout",
          "text": [
            "Mounted at /content/gdrive\n"
          ]
        }
      ]
    },
    {
      "cell_type": "code",
      "execution_count": 4,
      "metadata": {
        "colab": {
          "base_uri": "https://localhost:8080/"
        },
        "id": "RrYvNZZphVv5",
        "outputId": "710e9af1-ab4c-42c7-fd52-1765f038eae1"
      },
      "outputs": [
        {
          "output_type": "stream",
          "name": "stdout",
          "text": [
            "Downloading data from https://www.cs.toronto.edu/~kriz/cifar-10-python.tar.gz\n",
            "170498071/170498071 [==============================] - 4s 0us/step\n",
            "(50000, 32, 32, 3)\n",
            "(50000, 1)\n",
            "(10000, 32, 32, 3)\n",
            "(10000, 1)\n"
          ]
        }
      ],
      "source": [
        "from keras.datasets import cifar10\n",
        "import matplotlib.pyplot as plt\n",
        "import numpy as np\n",
        "(x_train, y_train),(x_test,y_test) = cifar10.load_data()\n",
        "print(x_train.shape)\n",
        "print(y_train.shape)\n",
        "print(x_test.shape)\n",
        "print(y_test.shape)"
      ]
    },
    {
      "cell_type": "code",
      "source": [
        "duty = x_train[0]   # Từ 0-60000 giá trị\n",
        "plt.imshow(duty, cmap= plt.cm.binary)\n",
        "plt.show()\n",
        "print('số này là: ', y_train[0])"
      ],
      "metadata": {
        "colab": {
          "base_uri": "https://localhost:8080/",
          "height": 447
        },
        "id": "uzkF3ApVi9s0",
        "outputId": "44652695-02dd-4862-cd9f-4903e209d4e5"
      },
      "execution_count": 5,
      "outputs": [
        {
          "output_type": "display_data",
          "data": {
            "text/plain": [
              "<Figure size 640x480 with 1 Axes>"
            ],
            "image/png": "[encoded data removed]"
          },
          "metadata": {}
        },
        {
          "output_type": "stream",
          "name": "stdout",
          "text": [
            "số này là:  [6]\n"
          ]
        }
      ]
    },
    {
      "cell_type": "code",
      "source": [
        "from keras.models import Sequential\n",
        "from keras.layers import Dense\n",
        "\n",
        "#Tạo 1 mạng có 28x28 input và 10 output\n",
        "model = Sequential()\n",
        "model.add(Dense(512,activation='relu',input_shape=(32*32*3,)))  #Hàm truyền relu tạo 512 noron trong 1 lop mạng ẩn 28*28,: chỉ có 1 cột dữ liệu\n",
        "# model.add(Dense(1000,activation='relu'))\n",
        "# model.add(Dense(500,activation='relu'))\n",
        "model.add(Dense(10,activation='softmax'))\n",
        "model.summary()"
      ],
      "metadata": {
        "colab": {
          "base_uri": "https://localhost:8080/"
        },
        "id": "n2BhPrXNj62A",
        "outputId": "e540d59e-5ab6-48fc-dd2b-3e3ee262dca0"
      },
      "execution_count": 6,
      "outputs": [
        {
          "output_type": "stream",
          "name": "stdout",
          "text": [
            "Model: \"sequential\"\n",
            "_________________________________________________________________\n",
            " Layer (type)                Output Shape              Param #   \n",
            "=================================================================\n",
            " dense (Dense)               (None, 512)               1573376   \n",
            "                                                                 \n",
            " dense_1 (Dense)             (None, 10)                5130      \n",
            "                                                                 \n",
            "=================================================================\n",
            "Total params: 1,578,506\n",
            "Trainable params: 1,578,506\n",
            "Non-trainable params: 0\n",
            "_________________________________________________________________\n"
          ]
        }
      ]
    },
    {
      "cell_type": "code",
      "source": [
        "X = x_test\n",
        "Y = y_test"
      ],
      "metadata": {
        "id": "vklrb_ZdkShL"
      },
      "execution_count": 7,
      "outputs": []
    },
    {
      "cell_type": "code",
      "source": [
        "x_train = x_train.reshape((50000,32*32*3))\n",
        "x_train = x_train.astype('float32')/255\n",
        "print(x_train.shape)\n",
        "\n",
        "x_test = x_test.reshape((10000,32*32*3))\n",
        "x_test = x_test.astype('float32')/255\n",
        "print(x_test.shape)"
      ],
      "metadata": {
        "colab": {
          "base_uri": "https://localhost:8080/"
        },
        "id": "EY43AO29kkzP",
        "outputId": "aa0608c6-7831-4cde-f6f2-2ce80c669feb"
      },
      "execution_count": 8,
      "outputs": [
        {
          "output_type": "stream",
          "name": "stdout",
          "text": [
            "(50000, 3072)\n",
            "(10000, 3072)\n"
          ]
        }
      ]
    },
    {
      "cell_type": "code",
      "source": [
        "from keras.utils import to_categorical #one hot enccoding giatri mau tung diem anh tu thap phan duoi dang 10 bit\n",
        "y_train = to_categorical (y_train,10)\n",
        "y_test = to_categorical(y_test,10)\n",
        "\n",
        "print(y_train.shape) \n",
        "print(y_test.shape)"
      ],
      "metadata": {
        "colab": {
          "base_uri": "https://localhost:8080/"
        },
        "id": "yhAUTtRhk5ky",
        "outputId": "2fb52eac-1d36-4e0f-b302-8856c41095a9"
      },
      "execution_count": 9,
      "outputs": [
        {
          "output_type": "stream",
          "name": "stdout",
          "text": [
            "(50000, 10)\n",
            "(10000, 10)\n"
          ]
        }
      ]
    },
    {
      "cell_type": "code",
      "source": [
        "model.compile(optimizer='rmsprop',loss='categorical_crossentropy',metrics=['accuracy'])\n",
        "model.fit(x_train,y_train,epochs=10,batch_size=128)\n",
        "test_loss,test_acc=model.evaluate(x_test,y_test)\n",
        "print('Độ chính xác trên tập kiểm tra:',test_acc)\n",
        "print('Hàm mất mát trên tập kiểm tra:',test_loss)"
      ],
      "metadata": {
        "colab": {
          "base_uri": "https://localhost:8080/"
        },
        "id": "AMmOLWYdlQLk",
        "outputId": "072de0a5-094f-4cc9-c0ff-8d91f3ccd754"
      },
      "execution_count": 10,
      "outputs": [
        {
          "output_type": "stream",
          "name": "stdout",
          "text": [
            "Epoch 1/10\n",
            "391/391 [==============================] - 9s 21ms/step - loss: 2.2838 - accuracy: 0.2598\n",
            "Epoch 2/10\n",
            "391/391 [==============================] - 9s 22ms/step - loss: 1.8011 - accuracy: 0.3566\n",
            "Epoch 3/10\n",
            "391/391 [==============================] - 8s 22ms/step - loss: 1.7103 - accuracy: 0.3894\n",
            "Epoch 4/10\n",
            "391/391 [==============================] - 9s 22ms/step - loss: 1.6560 - accuracy: 0.4106\n",
            "Epoch 5/10\n",
            "391/391 [==============================] - 9s 23ms/step - loss: 1.6189 - accuracy: 0.4280\n",
            "Epoch 6/10\n",
            "391/391 [==============================] - 8s 22ms/step - loss: 1.5884 - accuracy: 0.4355\n",
            "Epoch 7/10\n",
            "391/391 [==============================] - 9s 23ms/step - loss: 1.5597 - accuracy: 0.4480\n",
            "Epoch 8/10\n",
            "391/391 [==============================] - 8s 20ms/step - loss: 1.5338 - accuracy: 0.4574\n",
            "Epoch 9/10\n",
            "391/391 [==============================] - 9s 22ms/step - loss: 1.5162 - accuracy: 0.4653\n",
            "Epoch 10/10\n",
            "391/391 [==============================] - 8s 22ms/step - loss: 1.4994 - accuracy: 0.4713\n",
            "313/313 [==============================] - 1s 4ms/step - loss: 1.5570 - accuracy: 0.4460\n",
            "Độ chính xác trên tập kiểm tra: 0.44600000977516174\n",
            "Hàm mất mát trên tập kiểm tra: 1.5569913387298584\n"
          ]
        }
      ]
    },
    {
      "cell_type": "code",
      "source": [
        "model.save('test1.h5')"
      ],
      "metadata": {
        "id": "YQW8YmOsliyR"
      },
      "execution_count": 11,
      "outputs": []
    },
    {
      "cell_type": "code",
      "source": [
        "from keras.utils import load_img,img_to_array\n",
        "import matplotlib.pyplot as plt\n",
        "img = load_img('/content/dog.jpg', target_size = (32,32))\n",
        "plt.imshow(img)\n",
        "img = img_to_array(img)\n",
        "img = img.reshape(1,32*32*3)\n",
        "img = img.astype('float32')\n",
        "img = img/255\n",
        "np.argmax(model.predict(img),axis=1)"
      ],
      "metadata": {
        "colab": {
          "base_uri": "https://localhost:8080/",
          "height": 465
        },
        "id": "90m4NXA8tUc1",
        "outputId": "e34f065e-192f-4a7c-90a6-6d576d0eda43"
      },
      "execution_count": 15,
      "outputs": [
        {
          "output_type": "stream",
          "name": "stdout",
          "text": [
            "1/1 [==============================] - 0s 39ms/step\n"
          ]
        },
        {
          "output_type": "execute_result",
          "data": {
            "text/plain": [
              "array([2])"
            ]
          },
          "metadata": {},
          "execution_count": 15
        },
        {
          "output_type": "display_data",
          "data": {
            "text/plain": [
              "<Figure size 640x480 with 1 Axes>"
            ],
            "image/png": "[encoded data removed]"
          },
          "metadata": {}
        }
      ]
    }
  ]
}