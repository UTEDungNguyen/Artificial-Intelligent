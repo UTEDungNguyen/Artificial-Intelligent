{
  "nbformat": 4,
  "nbformat_minor": 0,
  "metadata": {
    "colab": {
      "provenance": [],
      "mount_file_id": "1wJHlTNwWWvZ7VXS91uldquQYKE38L3T5",
      "authorship_tag": "ABX9TyMbhD93wJs51Tym03UlUXds",
      "include_colab_link": true
    },
    "kernelspec": {
      "name": "python3",
      "display_name": "Python 3"
    },
    "language_info": {
      "name": "python"
    }
  },
  "cells": [
    {
      "cell_type": "markdown",
      "metadata": {
        "id": "view-in-github",
        "colab_type": "text"
      },
      "source": [
        "<a href=\"https://colab.research.google.com/github/UTEDungNguyen/Artificial-Intelligent/blob/main/CNN_AI_10_4_2023_Test2.ipynb\" target=\"_parent\"><img src=\"https://colab.research.google.com/assets/colab-badge.svg\" alt=\"Open In Colab\"/></a>"
      ]
    },
    {
      "cell_type": "code",
      "execution_count": null,
      "metadata": {
        "id": "haey-5sLnnoR"
      },
      "outputs": [],
      "source": [
        "from os import listdir\n",
        "from numpy import asarray,save\n",
        "from keras.utils import load_img, img_to_array"
      ]
    },
    {
      "cell_type": "code",
      "source": [
        "folder = '/content/drive/MyDrive/AnhLop/'\n",
        "\n",
        "photos, labels = list(), list()\n",
        "for file in listdir(folder) :\n",
        "  output = 0.0\n",
        "  if file.startswith('dung'):\n",
        "    output = 1.0\n",
        "  if file.startswith('Ha'):\n",
        "    output = 2.0\n",
        "  if file.startswith('hakiet'):\n",
        "    output = 3.0\n",
        "  if file.startswith('hau'):\n",
        "    output = 4.0\n",
        "  if file.startswith('Phat'):\n",
        "    output = 5.0\n",
        "  if file.startswith('QuangPhuc'):\n",
        "    output = 6.0\n",
        "  photo = load_img(folder + file, target_size = (30,40))\n",
        "  photo = img_to_array(photo)\n",
        "  photos.append(photo)\n",
        "  labels.append(output)\n",
        "photos = asarray(photos)\n",
        "labels = asarray(labels)\n",
        "print(photos.shape, labels.shape)\n",
        "save('/content/drive/MyDrive/Model Save/Dung_Hoang_photos.npy',photos)\n",
        "save('/content/drive/MyDrive/Model Save/Dung_Hoang_labels.npy',labels)"
      ],
      "metadata": {
        "colab": {
          "base_uri": "https://localhost:8080/"
        },
        "id": "CQgPtCA_oPNv",
        "outputId": "141a2357-defb-4a56-ebcd-424fe41fe400"
      },
      "execution_count": null,
      "outputs": [
        {
          "output_type": "stream",
          "name": "stdout",
          "text": [
            "(360, 30, 40, 3) (360,)\n"
          ]
        }
      ]
    }
  ]
}