{
  "nbformat": 4,
  "nbformat_minor": 0,
  "metadata": {
    "colab": {
      "provenance": [],
      "authorship_tag": "ABX9TyMQb0c5uF8gL7wBVOkegO8R",
      "include_colab_link": true
    },
    "kernelspec": {
      "name": "python3",
      "display_name": "Python 3"
    },
    "language_info": {
      "name": "python"
    }
  },
  "cells": [
    {
      "cell_type": "markdown",
      "metadata": {
        "id": "view-in-github",
        "colab_type": "text"
      },
      "source": [
        "<a href=\"https://colab.research.google.com/github/UTEDungNguyen/Artificial-Intelligent/blob/main/AI_20_3_2023.ipynb\" target=\"_parent\"><img src=\"https://colab.research.google.com/assets/colab-badge.svg\" alt=\"Open In Colab\"/></a>"
      ]
    },
    {
      "cell_type": "code",
      "execution_count": 175,
      "metadata": {
        "id": "3ZLS_0Ptst-c"
      },
      "outputs": [],
      "source": [
        "from sklearn.linear_model import Perceptron\n"
      ]
    },
    {
      "cell_type": "code",
      "source": [
        "x = [[0,0],[0,1],[1,0],[1,1]]\n",
        "t = [0,1,1,1]\n",
        "\n",
        "model = Perceptron()\n",
        "model.fit(x,t)\n",
        "# model.score(x,t)\n",
        "\n",
        "x1 = [[0.5,0.5],[0.5,0],[0,0.5],[0.4,0]]\n",
        "y1 = model.predict(x1)\n",
        "print(y1)\n",
        "model.score(x1,y1)"
      ],
      "metadata": {
        "colab": {
          "base_uri": "https://localhost:8080/"
        },
        "id": "8b9Odp_As8cB",
        "outputId": "23dd8951-6c01-4ee9-a9b2-528793543dcf"
      },
      "execution_count": 176,
      "outputs": [
        {
          "output_type": "stream",
          "name": "stdout",
          "text": [
            "[1 0 0 0]\n"
          ]
        },
        {
          "output_type": "execute_result",
          "data": {
            "text/plain": [
              "1.0"
            ]
          },
          "metadata": {},
          "execution_count": 176
        }
      ]
    },
    {
      "cell_type": "code",
      "source": [
        "e = [[-0.5,-0.5],[-0.5,0.5],[0.3,-0.5],[-0.1,1]]\n",
        "r = [1,1,0,0]\n",
        "\n",
        "model = Perceptron()\n",
        "model.fit(e,r)\n",
        "model.score(e,r)\n",
        "\n",
        "e1 = [[0.3,0.5],[-0.1,0.3],[-0.6,0.6],[-0.3,0.6]]\n",
        "r1 = model.predict(e1)\n",
        "print(r1)"
      ],
      "metadata": {
        "colab": {
          "base_uri": "https://localhost:8080/"
        },
        "id": "0YPZLqyiy-T9",
        "outputId": "1950e2ea-e12e-43ad-e79d-f279668f4173"
      },
      "execution_count": 177,
      "outputs": [
        {
          "output_type": "stream",
          "name": "stdout",
          "text": [
            "[0 0 1 1]\n"
          ]
        }
      ]
    },
    {
      "cell_type": "code",
      "source": [
        "from os.path import split\n",
        "from sklearn.linear_model import Perceptron\n",
        "from sklearn import datasets\n",
        "from sklearn.model_selection import train_test_split\n",
        "from sklearn.metrics import accuracy_score\n",
        "from sklearn.preprocessing import StandardScaler\n",
        "\n",
        "iris = datasets.load_iris()\n",
        "x = iris.data\n",
        "y = iris.target\n",
        "print(x[:5])\n",
        "print(y[:5])\n",
        "\n",
        "x_train,x_test,y_train,y_test = train_test_split(x,y,test_size = 0.3)\n",
        "sc = StandardScaler()\n",
        "sc.fit(x_train)\n",
        "x_train_std = sc.transform(x_train)\n",
        "x_test_std = sc.transform(x_test)\n",
        "print(x_train_std[:5], x_train[:5])\n",
        "print(y[:5])\n",
        "\n",
        "model = Perceptron(max_iter=100, eta0=0.2,random_state=0) #maxinter : so lan hoc, eta0 : toc do hoc, randomstate : gia tri ngau nhien cua he thong\n",
        "model.fit(x_train_std,y_train)\n",
        "y_pred = model.predict(x_test_std)\n",
        "print(y_pred)\n",
        "print(y_test)\n",
        "print(\"Độ chính xác của mô hình: \", accuracy_score(y_test,y_pred))"
      ],
      "metadata": {
        "colab": {
          "base_uri": "https://localhost:8080/"
        },
        "id": "kCaq4XkF2WIW",
        "outputId": "a9627f99-4bfa-4b41-bda2-6140d4c6d8a7"
      },
      "execution_count": 178,
      "outputs": [
        {
          "output_type": "stream",
          "name": "stdout",
          "text": [
            "[[5.1 3.5 1.4 0.2]\n",
            " [4.9 3.  1.4 0.2]\n",
            " [4.7 3.2 1.3 0.2]\n",
            " [4.6 3.1 1.5 0.2]\n",
            " [5.  3.6 1.4 0.2]]\n",
            "[0 0 0 0 0]\n",
            "[[ 0.76471363 -0.0954081   0.77400656  1.02737335]\n",
            " [ 0.76471363 -0.0954081   0.94778565  0.75768785]\n",
            " [ 2.20283181  1.72601934  1.64290202  1.29705885]\n",
            " [ 1.0044      0.13227033  1.00571202  1.56674436]\n",
            " [-0.91309091 -1.23380026 -0.50037345 -0.18621142]] [[6.5 3.  5.2 2. ]\n",
            " [6.5 3.  5.5 1.8]\n",
            " [7.7 3.8 6.7 2.2]\n",
            " [6.7 3.1 5.6 2.4]\n",
            " [5.1 2.5 3.  1.1]]\n",
            "[0 0 0 0 0]\n",
            "[2 1 0 0 2 1 0 0 2 2 0 0 2 0 2 0 0 2 0 0 2 1 2 0 1 1 0 1 1 2 0 1 2 0 1 0 1\n",
            " 2 2 0 2 2 2 2 0]\n",
            "[1 1 0 0 2 1 0 0 1 2 0 0 2 0 2 0 1 1 0 0 2 1 1 0 1 1 0 2 0 1 0 1 2 0 1 0 1\n",
            " 2 1 0 2 1 2 2 0]\n",
            "Độ chính xác của mô hình:  0.7777777777777778\n"
          ]
        }
      ]
    },
    {
      "cell_type": "markdown",
      "source": [
        "**Crabs Homework Machine Learning**"
      ],
      "metadata": {
        "id": "KCNMKW0aBwoF"
      }
    },
    {
      "cell_type": "code",
      "source": [
        "import pandas as pd\n",
        "\n",
        "url = 'crabs.csv'\n",
        "dataFrame = pd.read_csv(url)\n",
        "dataFrame_total = dataFrame.replace(['B','M','O','F'], [0,0,1,1])\n",
        "print(dataFrame_total)"
      ],
      "metadata": {
        "colab": {
          "base_uri": "https://localhost:8080/"
        },
        "id": "0LWX0b9O_eDr",
        "outputId": "2286e375-1908-4d7e-d981-5616fc88baad"
      },
      "execution_count": 179,
      "outputs": [
        {
          "output_type": "stream",
          "name": "stdout",
          "text": [
            "     speies  sex  index  fontallip  rearwidth  length  width  depth\n",
            "0         0    0      1        8.1        6.7    16.1   19.0    7.0\n",
            "1         0    0      2        8.8        7.7    18.1   20.8    7.4\n",
            "2         0    0      3        9.2        7.8    19.0   22.4    7.7\n",
            "3         0    0      4        9.6        7.9    20.1   23.1    8.2\n",
            "4         0    0      5        9.8        8.0    20.3   23.0    8.2\n",
            "..      ...  ...    ...        ...        ...     ...    ...    ...\n",
            "195       1    1     46       21.4       18.0    41.2   46.2   18.7\n",
            "196       1    1     47       21.7       17.1    41.7   47.2   19.6\n",
            "197       1    1     48       21.9       17.2    42.6   47.4   19.5\n",
            "198       1    1     49       22.5       17.2    43.0   48.7   19.8\n",
            "199       1    1     50       23.1       20.2    46.2   52.5   21.1\n",
            "\n",
            "[200 rows x 8 columns]\n"
          ]
        }
      ]
    },
    {
      "cell_type": "code",
      "source": [
        "x = dataFrame_total.drop('speies', axis = 1)\n",
        "y = dataFrame_total.speies\n",
        "print(x[:5])\n",
        "print(\"---------------------------------------------------------\")\n",
        "print(y[:5])"
      ],
      "metadata": {
        "colab": {
          "base_uri": "https://localhost:8080/"
        },
        "id": "QOSre2Q4B2Mb",
        "outputId": "d73e99ea-3a52-4613-9f1f-f27550299f23"
      },
      "execution_count": 180,
      "outputs": [
        {
          "output_type": "stream",
          "name": "stdout",
          "text": [
            "   sex  index  fontallip  rearwidth  length  width  depth\n",
            "0    0      1        8.1        6.7    16.1   19.0    7.0\n",
            "1    0      2        8.8        7.7    18.1   20.8    7.4\n",
            "2    0      3        9.2        7.8    19.0   22.4    7.7\n",
            "3    0      4        9.6        7.9    20.1   23.1    8.2\n",
            "4    0      5        9.8        8.0    20.3   23.0    8.2\n",
            "---------------------------------------------------------\n",
            "0    0\n",
            "1    0\n",
            "2    0\n",
            "3    0\n",
            "4    0\n",
            "Name: speies, dtype: int64\n"
          ]
        }
      ]
    },
    {
      "cell_type": "code",
      "source": [
        "x_train,x_test,y_train,y_test = train_test_split(x,y,test_size = 0.3)\n",
        "sc = StandardScaler()\n",
        "sc.fit(x_train)\n",
        "x_train_std = sc.transform(x_train)\n",
        "x_test_std = sc.transform(x_test)\n",
        "print(x_train_std[:5], x_train[:5])\n",
        "print(y[:5])"
      ],
      "metadata": {
        "colab": {
          "base_uri": "https://localhost:8080/"
        },
        "id": "SC6e4fneCLhZ",
        "outputId": "873fed76-e99a-470f-e79c-132c1f4d38c9"
      },
      "execution_count": 181,
      "outputs": [
        {
          "output_type": "stream",
          "name": "stdout",
          "text": [
            "[[ 1.04381619  0.45946048  0.89812196  0.97033887  0.4999528   0.49996579\n",
            "   0.74514519]\n",
            " [-0.95802308  0.67222056  0.26569955  0.28748656  0.82702472  0.87447891\n",
            "   0.23728564]\n",
            " [ 1.04381619  0.60130053  0.98436138  1.29168113  0.78436316  0.73242221\n",
            "   0.80489337]\n",
            " [-0.95802308  0.24670039  0.06447423 -0.0338557   0.24398346  0.29333786\n",
            "   0.028167  ]\n",
            " [-0.95802308 -0.95894011 -0.45296229 -0.95771471 -0.48126297 -0.62357357\n",
            "  -0.18095164]]      sex  index  fontallip  rearwidth  length  width  depth\n",
            "181    1     32       18.8       15.2    35.8   40.5   16.6\n",
            "34     0     35       16.6       13.5    38.1   43.4   14.9\n",
            "183    1     34       19.1       16.0    37.8   42.3   16.8\n",
            "28     0     29       15.9       12.7    34.0   38.9   14.2\n",
            "111    0     12       14.1       10.4    28.9   31.8   13.5\n",
            "0    0\n",
            "1    0\n",
            "2    0\n",
            "3    0\n",
            "4    0\n",
            "Name: speies, dtype: int64\n"
          ]
        }
      ]
    },
    {
      "cell_type": "code",
      "source": [
        "model = Perceptron(max_iter=300, eta0=0.6,random_state=0) #maxinter : so lan hoc, eta0 : toc do hoc, randomstate : gia tri ngau nhien cua he thong\n",
        "model.fit(x_train_std,y_train)\n",
        "y_pred = model.predict(x_test_std)\n",
        "print(y_pred[:5])\n",
        "print(y_test[:5])\n",
        "print(\"Độ chính xác của mô hình: \", accuracy_score(y_test,y_pred))"
      ],
      "metadata": {
        "colab": {
          "base_uri": "https://localhost:8080/"
        },
        "id": "tfXBdcO6CPVu",
        "outputId": "0a905973-2487-4991-8f34-4e28ff328f69"
      },
      "execution_count": 182,
      "outputs": [
        {
          "output_type": "stream",
          "name": "stdout",
          "text": [
            "[0 0 0 0 1]\n",
            "97     0\n",
            "30     0\n",
            "52     0\n",
            "56     0\n",
            "110    1\n",
            "Name: speies, dtype: int64\n",
            "Độ chính xác của mô hình:  0.9833333333333333\n"
          ]
        }
      ]
    }
  ]
}